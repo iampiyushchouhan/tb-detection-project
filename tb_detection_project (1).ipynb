{
 "cells": [
  {
   "cell_type": "code",
   "execution_count": null,
   "id": "a44a7d04-dfb4-4f50-8ef5-bc7d13587ca8",
   "metadata": {},
   "outputs": [],
   "source": [
    "import tensorflow as tf\n",
    "from tensorflow.keras.preprocessing.image import ImageDataGenerator\n",
    "from tensorflow.keras.applications import MobileNetV2\n",
    "from tensorflow.keras import layers, models\n",
    "import matplotlib.pyplot as plt\n",
    "import numpy as np\n",
    "import cv2\n"
   ]
  },
  {
   "cell_type": "code",
   "execution_count": null,
   "id": "6a4e3ecd-d100-42fc-bb44-05d01f342926",
   "metadata": {},
   "outputs": [],
   "source": [
    "base_model = MobileNetV2(weights='imagenet', include_top=False, input_shape=(224, 224, 3))\n",
    "base_model.trainable = False\n",
    "\n",
    "model = models.Sequential([\n",
    "    base_model,\n",
    "    layers.GlobalAveragePooling2D(),\n",
    "    layers.Dense(1, activation='sigmoid')\n",
    "])\n",
    "\n",
    "model.compile(optimizer='adam', loss='binary_crossentropy', metrics=['accuracy'])\n"
   ]
  },
  {
   "cell_type": "code",
   "execution_count": null,
   "id": "b2a9914b-508a-441b-8b99-ade37f984eae",
   "metadata": {},
   "outputs": [],
   "source": [
    "from tensorflow.keras.preprocessing.image import ImageDataGenerator\n",
    "\n",
    "train_datagen = ImageDataGenerator(\n",
    "    rescale=1./255,       # Rescale pixel values to be between 0 and 1\n",
    "    rotation_range=40,    # Augment images by rotating up to 40 degrees\n",
    "    width_shift_range=0.2,  # Augment images by shifting horizontally\n",
    "    height_shift_range=0.2, # Augment images by shifting vertically\n",
    "    shear_range=0.2,      # Apply shear transformations\n",
    "    zoom_range=0.2,       # Apply zoom transformations\n",
    "    horizontal_flip=True, # Flip images horizontally\n",
    "    fill_mode='nearest',  # Fill gaps created by transformations\n",
    "    validation_split=0.2  # Reserve 20% of data for validation\n",
    ")"
   ]
  },
  {
   "cell_type": "code",
   "execution_count": null,
   "id": "36d251e1-7238-4c10-a92a-02def65ee19b",
   "metadata": {},
   "outputs": [],
   "source": [
    "train_generator = train_datagen.flow_from_directory(\n",
    "    'D:/archive/TB_Chest_Radiography_Database',\n",
    "    target_size=(224, 224),\n",
    "    batch_size=32,\n",
    "    class_mode='binary',\n",
    "    subset='training')\n",
    "\n",
    "validation_generator = train_datagen.flow_from_directory(\n",
    "    'D:/archive/TB_Chest_Radiography_Database',\n",
    "    target_size=(224, 224),\n",
    "    batch_size=32,\n",
    "    class_mode='binary',\n",
    "    subset='validation')\n"
   ]
  },
  {
   "cell_type": "code",
   "execution_count": null,
   "id": "a1747086-35f1-438a-97ca-67242f6b5f66",
   "metadata": {},
   "outputs": [],
   "source": [
    "model.fit(train_generator, validation_data=validation_generator, epochs=10)\n"
   ]
  },
  {
   "cell_type": "code",
   "execution_count": null,
   "id": "9ef3abff-6feb-4d77-89d9-56820475c424",
   "metadata": {},
   "outputs": [],
   "source": [
    "import tensorflow as tf\n",
    "import numpy as np\n",
    "import matplotlib.pyplot as plt\n",
    "import cv2\n",
    "from tensorflow.keras.models import Model\n",
    "\n",
    "\n",
    "# Ensure image array is converted to a Keras tensor\n",
    "#img_array = tf.convert_to_tensor(img_array, dtype=tf.float32)\n",
    "\n",
    "def get_img_array(img_path, size):\n",
    "    img = tf.keras.preprocessing.image.load_img(img_path, target_size=size)\n",
    "    array = tf.keras.preprocessing.image.img_to_array(img)\n",
    "    array = np.expand_dims(array, axis=0)\n",
    "    return array\n",
    "\n",
    "\n",
    "def make_gradcam_heatmap(img_array, model, last_conv_layer_name):\n",
    "    # Access the MobileNetV2 base model\n",
    "    base_model = model.layers[0]  # Extract MobileNetV2 model from Sequential model\n",
    "\n",
    "\n",
    "    grad_model = Model(\n",
    "    inputs=[base_model.input], \n",
    "    outputs=[base_model.get_layer(last_conv_layer_name).output, base_model.output]  # Access base model output\n",
    ")\n",
    "\n",
    "    with tf.GradientTape() as tape:\n",
    "        conv_outputs, predictions = grad_model(img_array)\n",
    "        loss = predictions[:, 0]  # Binary classification loss\n",
    "\n",
    "    # Compute gradients\n",
    "    grads = tape.gradient(loss, conv_outputs)\n",
    "    pooled_grads = tf.reduce_mean(grads, axis=(0, 1, 2))\n",
    "\n",
    "    # Apply gradients to feature maps\n",
    "    conv_outputs = conv_outputs[0]\n",
    "    heatmap = conv_outputs @ pooled_grads[..., tf.newaxis]\n",
    "    heatmap = tf.squeeze(heatmap)\n",
    "\n",
    "    heatmap = tf.maximum(heatmap, 0) / tf.reduce_max(heatmap)\n",
    "    return heatmap.numpy()\n",
    "\n",
    "# Load and preprocess image\n",
    "img_path = r\"D:\\archive\\TB_Chest_Radiography_Database\\Normal\\Normal-1.png\"\n",
    "img_array = get_img_array(img_path, size=(224, 224))\n",
    "\n",
    "# Generate Grad-CAM heatmap\n",
    "# heatmap = make_gradcam_heatmap(img_array, model, 'Conv_1')    # 'Conv_1' is the last conv layer in MobileNetV2\n",
    "heatmap = make_gradcam_heatmap(img_array, model, 'Conv_1')  # Use correct layer reference\n",
    "\n",
    "\n",
    "# Display heatmap\n",
    "plt.matshow(heatmap)\n",
    "plt.show()\n"
   ]
  },
  {
   "cell_type": "code",
   "execution_count": null,
   "id": "7097d542-cf7c-4771-80f6-b640d64188e0",
   "metadata": {},
   "outputs": [],
   "source": [
    "# Load original image\n",
    "img = cv2.imread(img_path)\n",
    "img = cv2.resize(img, (224, 224))\n",
    "\n",
    "# Rescale heatmap to 0–255\n",
    "heatmap = np.uint8(255 * heatmap)\n",
    "\n",
    "# Resize the heatmap to match the image size\n",
    "heatmap = cv2.resize(heatmap, (224, 224))  # FIX: Resize heatmap correctly\n",
    "\n",
    "# Apply heatmap to original image\n",
    "heatmap = cv2.applyColorMap(heatmap, cv2.COLORMAP_JET)\n",
    "superimposed_img = cv2.addWeighted(img, 0.6, heatmap, 0.4, 0)\n",
    "\n",
    "# Display result\n",
    "plt.imshow(cv2.cvtColor(superimposed_img, cv2.COLOR_BGR2RGB))\n",
    "plt.axis('off')\n",
    "plt.title('Grad-CAM Overlay')\n",
    "plt.show()"
   ]
  },
  {
   "cell_type": "code",
   "execution_count": null,
   "id": "41d829bd-1c75-4e91-8e26-1a52a9eb464a",
   "metadata": {},
   "outputs": [],
   "source": [
    " model.save('tb_detection_model.h5')\n",
    "# model.save('tb_detection_model.keras')\n"
   ]
  },
  {
   "cell_type": "code",
   "execution_count": null,
   "id": "ba0892c3-8128-44d6-a087-d6809dcbc674",
   "metadata": {},
   "outputs": [],
   "source": [
    "# from tensorflow.keras.models import load_model\n",
    "# model = load_model('tb_detection_model.h5')\n",
    "from tensorflow.keras.models import load_model\n",
    "\n",
    "# Load the saved model\n",
    "model = load_model('tb_detection_model.h5')\n",
    "\n",
    "# Recompile the model with the same loss function, optimizer, and metrics\n",
    "model.compile(\n",
    "    optimizer='adam',  # Use the optimizer you trained with\n",
    "    loss='binary_crossentropy',  # Use the correct loss function for TB detection\n",
    "    metrics=['accuracy']\n",
    ")\n",
    "\n",
    "print(\"✅ Model successfully recompiled!\")"
   ]
  },
  {
   "cell_type": "code",
   "execution_count": null,
   "id": "ec156ea7-302c-45b9-8337-eefa0f40393c",
   "metadata": {},
   "outputs": [],
   "source": [
    "predictions = model.predict(img_array)\n",
    "print(predictions)"
   ]
  },
  {
   "cell_type": "code",
   "execution_count": null,
   "id": "544f73e0-3176-4bd1-b61a-b3e814edfd1b",
   "metadata": {},
   "outputs": [],
   "source": [
    "from tensorflow.keras.preprocessing import image\n",
    "import numpy as np\n",
    "\n",
    "# 🖼️ Path to your chest X-ray image\n",
    "img_path = r\"D:\\archive\\TB_Chest_Radiography_Database\\Normal\\Normal-1.png\"  # Fix the path\n",
    "\n",
    "# 📦 Preprocess image\n",
    "img = image.load_img(img_path, target_size=(224, 224))\n",
    "img_array = image.img_to_array(img)\n",
    "img_array = np.expand_dims(img_array, axis=0) / 255.0\n",
    "\n",
    "# 🔮 Make prediction\n",
    "prediction = model.predict(img_array)[0][0]\n",
    "\n",
    "# 📢 Show result\n",
    "if prediction > 0.5:\n",
    "    print(f\"✅ TB Detected! (Confidence: {prediction:.2f})\")\n",
    "else:\n",
    "    print(f\"❎ Normal. (Confidence: {1 - prediction:.2f})\")\n"
   ]
  },
  {
   "cell_type": "code",
   "execution_count": null,
   "id": "d32407f0-5a31-4f2c-b3c1-386d33da659c",
   "metadata": {},
   "outputs": [],
   "source": []
  }
 ],
 "metadata": {
  "kernelspec": {
   "display_name": "Python (TensorFlow)",
   "language": "python",
   "name": "tf-env"
  },
  "language_info": {
   "codemirror_mode": {
    "name": "ipython",
    "version": 3
   },
   "file_extension": ".py",
   "mimetype": "text/x-python",
   "name": "python",
   "nbconvert_exporter": "python",
   "pygments_lexer": "ipython3",
   "version": "3.10.16"
  }
 },
 "nbformat": 4,
 "nbformat_minor": 5
}
